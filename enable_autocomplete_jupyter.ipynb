{
 "cells": [
  {
   "cell_type": "code",
   "execution_count": 8,
   "id": "c79f410d",
   "metadata": {},
   "outputs": [
    {
     "name": "stdout",
     "output_type": "stream",
     "text": [
      "Collecting jupyter-tabnine\n",
      "  Downloading jupyter_tabnine-1.2.3-py2.py3-none-any.whl (21 kB)\n",
      "Requirement already satisfied: nbconvert in c:\\users\\sreya\\anaconda3\\lib\\site-packages (from jupyter-tabnine) (6.4.4)\n",
      "Requirement already satisfied: jupyter-core in c:\\users\\sreya\\anaconda3\\lib\\site-packages (from jupyter-tabnine) (4.11.1)\n",
      "Requirement already satisfied: ipython in c:\\users\\sreya\\anaconda3\\lib\\site-packages (from jupyter-tabnine) (7.31.1)\n",
      "Requirement already satisfied: notebook>=4.2 in c:\\users\\sreya\\anaconda3\\lib\\site-packages (from jupyter-tabnine) (6.4.12)\n",
      "Requirement already satisfied: ipykernel in c:\\users\\sreya\\anaconda3\\lib\\site-packages (from notebook>=4.2->jupyter-tabnine) (6.15.2)\n",
      "Requirement already satisfied: jinja2 in c:\\users\\sreya\\anaconda3\\lib\\site-packages (from notebook>=4.2->jupyter-tabnine) (2.11.3)\n",
      "Requirement already satisfied: ipython-genutils in c:\\users\\sreya\\anaconda3\\lib\\site-packages (from notebook>=4.2->jupyter-tabnine) (0.2.0)\n",
      "Requirement already satisfied: prometheus-client in c:\\users\\sreya\\anaconda3\\lib\\site-packages (from notebook>=4.2->jupyter-tabnine) (0.14.1)\n",
      "Requirement already satisfied: Send2Trash>=1.8.0 in c:\\users\\sreya\\anaconda3\\lib\\site-packages (from notebook>=4.2->jupyter-tabnine) (1.8.0)\n",
      "Requirement already satisfied: traitlets>=4.2.1 in c:\\users\\sreya\\anaconda3\\lib\\site-packages (from notebook>=4.2->jupyter-tabnine) (5.1.1)\n",
      "Requirement already satisfied: terminado>=0.8.3 in c:\\users\\sreya\\anaconda3\\lib\\site-packages (from notebook>=4.2->jupyter-tabnine) (0.13.1)\n",
      "Requirement already satisfied: nest-asyncio>=1.5 in c:\\users\\sreya\\anaconda3\\lib\\site-packages (from notebook>=4.2->jupyter-tabnine) (1.5.5)\n",
      "Requirement already satisfied: pyzmq>=17 in c:\\users\\sreya\\anaconda3\\lib\\site-packages (from notebook>=4.2->jupyter-tabnine) (23.2.0)\n",
      "Requirement already satisfied: argon2-cffi in c:\\users\\sreya\\anaconda3\\lib\\site-packages (from notebook>=4.2->jupyter-tabnine) (21.3.0)\n",
      "Requirement already satisfied: jupyter-client>=5.3.4 in c:\\users\\sreya\\anaconda3\\lib\\site-packages (from notebook>=4.2->jupyter-tabnine) (7.3.4)\n",
      "Requirement already satisfied: nbformat in c:\\users\\sreya\\anaconda3\\lib\\site-packages (from notebook>=4.2->jupyter-tabnine) (5.5.0)\n",
      "Requirement already satisfied: tornado>=6.1 in c:\\users\\sreya\\anaconda3\\lib\\site-packages (from notebook>=4.2->jupyter-tabnine) (6.1)\n",
      "Requirement already satisfied: pywin32>=1.0 in c:\\users\\sreya\\anaconda3\\lib\\site-packages (from jupyter-core->jupyter-tabnine) (302)\n",
      "Requirement already satisfied: defusedxml in c:\\users\\sreya\\anaconda3\\lib\\site-packages (from nbconvert->jupyter-tabnine) (0.7.1)\n",
      "Requirement already satisfied: bleach in c:\\users\\sreya\\anaconda3\\lib\\site-packages (from nbconvert->jupyter-tabnine) (4.1.0)\n",
      "Requirement already satisfied: jupyterlab-pygments in c:\\users\\sreya\\anaconda3\\lib\\site-packages (from nbconvert->jupyter-tabnine) (0.1.2)\n",
      "Requirement already satisfied: pygments>=2.4.1 in c:\\users\\sreya\\anaconda3\\lib\\site-packages (from nbconvert->jupyter-tabnine) (2.11.2)\n",
      "Requirement already satisfied: nbclient<0.6.0,>=0.5.0 in c:\\users\\sreya\\anaconda3\\lib\\site-packages (from nbconvert->jupyter-tabnine) (0.5.13)\n",
      "Requirement already satisfied: mistune<2,>=0.8.1 in c:\\users\\sreya\\anaconda3\\lib\\site-packages (from nbconvert->jupyter-tabnine) (0.8.4)\n",
      "Requirement already satisfied: entrypoints>=0.2.2 in c:\\users\\sreya\\anaconda3\\lib\\site-packages (from nbconvert->jupyter-tabnine) (0.4)\n",
      "Requirement already satisfied: pandocfilters>=1.4.1 in c:\\users\\sreya\\anaconda3\\lib\\site-packages (from nbconvert->jupyter-tabnine) (1.5.0)\n",
      "Requirement already satisfied: testpath in c:\\users\\sreya\\anaconda3\\lib\\site-packages (from nbconvert->jupyter-tabnine) (0.6.0)\n",
      "Requirement already satisfied: beautifulsoup4 in c:\\users\\sreya\\anaconda3\\lib\\site-packages (from nbconvert->jupyter-tabnine) (4.11.1)\n",
      "Requirement already satisfied: matplotlib-inline in c:\\users\\sreya\\anaconda3\\lib\\site-packages (from ipython->jupyter-tabnine) (0.1.6)\n",
      "Requirement already satisfied: decorator in c:\\users\\sreya\\anaconda3\\lib\\site-packages (from ipython->jupyter-tabnine) (5.1.1)\n",
      "Requirement already satisfied: backcall in c:\\users\\sreya\\anaconda3\\lib\\site-packages (from ipython->jupyter-tabnine) (0.2.0)\n",
      "Requirement already satisfied: colorama in c:\\users\\sreya\\anaconda3\\lib\\site-packages (from ipython->jupyter-tabnine) (0.4.5)\n",
      "Requirement already satisfied: pickleshare in c:\\users\\sreya\\anaconda3\\lib\\site-packages (from ipython->jupyter-tabnine) (0.7.5)\n",
      "Requirement already satisfied: prompt-toolkit!=3.0.0,!=3.0.1,<3.1.0,>=2.0.0 in c:\\users\\sreya\\anaconda3\\lib\\site-packages (from ipython->jupyter-tabnine) (3.0.20)\n",
      "Requirement already satisfied: setuptools>=18.5 in c:\\users\\sreya\\anaconda3\\lib\\site-packages (from ipython->jupyter-tabnine) (63.4.1)\n",
      "Requirement already satisfied: jedi>=0.16 in c:\\users\\sreya\\anaconda3\\lib\\site-packages (from ipython->jupyter-tabnine) (0.18.1)\n",
      "Requirement already satisfied: parso<0.9.0,>=0.8.0 in c:\\users\\sreya\\anaconda3\\lib\\site-packages (from jedi>=0.16->ipython->jupyter-tabnine) (0.8.3)\n",
      "Requirement already satisfied: MarkupSafe>=0.23 in c:\\users\\sreya\\anaconda3\\lib\\site-packages (from jinja2->notebook>=4.2->jupyter-tabnine) (2.0.1)\n",
      "Requirement already satisfied: python-dateutil>=2.8.2 in c:\\users\\sreya\\anaconda3\\lib\\site-packages (from jupyter-client>=5.3.4->notebook>=4.2->jupyter-tabnine) (2.8.2)\n",
      "Requirement already satisfied: fastjsonschema in c:\\users\\sreya\\anaconda3\\lib\\site-packages (from nbformat->notebook>=4.2->jupyter-tabnine) (2.16.2)\n",
      "Requirement already satisfied: jsonschema>=2.6 in c:\\users\\sreya\\anaconda3\\lib\\site-packages (from nbformat->notebook>=4.2->jupyter-tabnine) (4.16.0)\n",
      "Requirement already satisfied: wcwidth in c:\\users\\sreya\\anaconda3\\lib\\site-packages (from prompt-toolkit!=3.0.0,!=3.0.1,<3.1.0,>=2.0.0->ipython->jupyter-tabnine) (0.2.5)\n",
      "Requirement already satisfied: pywinpty>=1.1.0 in c:\\users\\sreya\\anaconda3\\lib\\site-packages (from terminado>=0.8.3->notebook>=4.2->jupyter-tabnine) (2.0.2)\n",
      "Requirement already satisfied: argon2-cffi-bindings in c:\\users\\sreya\\anaconda3\\lib\\site-packages (from argon2-cffi->notebook>=4.2->jupyter-tabnine) (21.2.0)\n",
      "Requirement already satisfied: soupsieve>1.2 in c:\\users\\sreya\\anaconda3\\lib\\site-packages (from beautifulsoup4->nbconvert->jupyter-tabnine) (2.3.1)\n",
      "Requirement already satisfied: webencodings in c:\\users\\sreya\\anaconda3\\lib\\site-packages (from bleach->nbconvert->jupyter-tabnine) (0.5.1)\n",
      "Requirement already satisfied: packaging in c:\\users\\sreya\\anaconda3\\lib\\site-packages (from bleach->nbconvert->jupyter-tabnine) (21.3)\n",
      "Requirement already satisfied: six>=1.9.0 in c:\\users\\sreya\\anaconda3\\lib\\site-packages (from bleach->nbconvert->jupyter-tabnine) (1.16.0)\n",
      "Requirement already satisfied: debugpy>=1.0 in c:\\users\\sreya\\anaconda3\\lib\\site-packages (from ipykernel->notebook>=4.2->jupyter-tabnine) (1.5.1)\n",
      "Requirement already satisfied: psutil in c:\\users\\sreya\\anaconda3\\lib\\site-packages (from ipykernel->notebook>=4.2->jupyter-tabnine) (5.9.0)\n",
      "Requirement already satisfied: pyrsistent!=0.17.0,!=0.17.1,!=0.17.2,>=0.14.0 in c:\\users\\sreya\\anaconda3\\lib\\site-packages (from jsonschema>=2.6->nbformat->notebook>=4.2->jupyter-tabnine) (0.18.0)\n",
      "Requirement already satisfied: attrs>=17.4.0 in c:\\users\\sreya\\anaconda3\\lib\\site-packages (from jsonschema>=2.6->nbformat->notebook>=4.2->jupyter-tabnine) (21.4.0)\n",
      "Requirement already satisfied: cffi>=1.0.1 in c:\\users\\sreya\\anaconda3\\lib\\site-packages (from argon2-cffi-bindings->argon2-cffi->notebook>=4.2->jupyter-tabnine) (1.15.1)\n",
      "Requirement already satisfied: pyparsing!=3.0.5,>=2.0.2 in c:\\users\\sreya\\anaconda3\\lib\\site-packages (from packaging->bleach->nbconvert->jupyter-tabnine) (3.0.9)\n",
      "Requirement already satisfied: pycparser in c:\\users\\sreya\\anaconda3\\lib\\site-packages (from cffi>=1.0.1->argon2-cffi-bindings->argon2-cffi->notebook>=4.2->jupyter-tabnine) (2.21)\n",
      "Installing collected packages: jupyter-tabnine\n",
      "Successfully installed jupyter-tabnine-1.2.3\n"
     ]
    }
   ],
   "source": [
    "! pip3 install jupyter-tabnine"
   ]
  },
  {
   "cell_type": "code",
   "execution_count": 7,
   "id": "50fabdb7",
   "metadata": {},
   "outputs": [
    {
     "ename": "SyntaxError",
     "evalue": "invalid syntax (4019433620.py, line 2)",
     "output_type": "error",
     "traceback": [
      "\u001b[1;36m  File \u001b[1;32m\"C:\\Users\\sreya\\AppData\\Local\\Temp\\ipykernel_4660\\4019433620.py\"\u001b[1;36m, line \u001b[1;32m2\u001b[0m\n\u001b[1;33m    jupyter nbextension install --py jupyter_tabnine\u001b[0m\n\u001b[1;37m            ^\u001b[0m\n\u001b[1;31mSyntaxError\u001b[0m\u001b[1;31m:\u001b[0m invalid syntax\n"
     ]
    }
   ],
   "source": [
    "!jupyter nbextension install --py jupyter_tabnine \n",
    "!jupyter nbextension enable --py jupyter_tabnine \n",
    "!jupyter serverextension enable --py jupyter_tabnine "
   ]
  },
  {
   "cell_type": "code",
   "execution_count": 2,
   "id": "8f85e3b7",
   "metadata": {},
   "outputs": [
    {
     "name": "stdout",
     "output_type": "stream",
     "text": [
      "14\n"
     ]
    }
   ],
   "source": [
    "same = 3+5+6\n",
    "print(same)"
   ]
  },
  {
   "cell_type": "code",
   "execution_count": null,
   "id": "03c074e4",
   "metadata": {},
   "outputs": [],
   "source": []
  }
 ],
 "metadata": {
  "kernelspec": {
   "display_name": "Python 3 (ipykernel)",
   "language": "python",
   "name": "python3"
  },
  "language_info": {
   "codemirror_mode": {
    "name": "ipython",
    "version": 3
   },
   "file_extension": ".py",
   "mimetype": "text/x-python",
   "name": "python",
   "nbconvert_exporter": "python",
   "pygments_lexer": "ipython3",
   "version": "3.9.13"
  }
 },
 "nbformat": 4,
 "nbformat_minor": 5
}
